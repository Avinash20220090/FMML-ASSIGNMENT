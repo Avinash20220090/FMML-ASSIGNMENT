{
 "cells": [
  {
   "cell_type": "markdown",
   "id": "e84d5137",
   "metadata": {},
   "source": [
    "#### Question 0:\n",
    "###### write down 3-5 methods applicable to each data type. (Hint: extend, reverse, etc."
   ]
  },
  {
   "cell_type": "markdown",
   "id": "f615d13e",
   "metadata": {},
   "source": [
    "###### String"
   ]
  },
  {
   "cell_type": "code",
   "execution_count": null,
   "id": "81dbefe3",
   "metadata": {},
   "outputs": [],
   "source": [
    "string = \"Python is widely used for Machine Learning. Python is a High level language\"\n",
    "print(\"String is : \", string)\n",
    "print(\"1. string.count() : \" , string.count(\"Python\")) # counts the occurance of given word in the stirng\n",
    "print(\"2. string.replace() : \", string.replace(\"Python\" , \"R\")) # replaces the word with the given word\n",
    "print(\"3. string.title() : \", string.title())  # Changes every first letter of a word into Uppercase\n",
    "s=string.split(' ') # Breaks the string with the given seperator and returns into list\n",
    "print(\"4. string.split() : \\n\", s)\n",
    "print(\"5. join() : \\n\",'####'.join(s)) # joins the items of list by the given seperator into string"
   ]
  },
  {
   "cell_type": "markdown",
   "id": "0195e833",
   "metadata": {},
   "source": [
    "###### List"
   ]
  },
  {
   "cell_type": "code",
   "execution_count": null,
   "id": "39c82dd1",
   "metadata": {},
   "outputs": [],
   "source": [
    "list_1 = [\"FMML\",2022,8.03,\"IIITH\",\"2023\"]\n",
    "print(\"list is : \",list_1)"
   ]
  },
  {
   "cell_type": "code",
   "execution_count": null,
   "id": "2df727f8",
   "metadata": {},
   "outputs": [],
   "source": [
    "print(\"1. list_1.append() : \")\n",
    "list_1.append(\"append_function\") # appends an element at the end of the list\n",
    "list_1"
   ]
  },
  {
   "cell_type": "code",
   "execution_count": null,
   "id": "fe574acc",
   "metadata": {},
   "outputs": [],
   "source": [
    "print(\"2. list_1.insert() : \")\n",
    "list_1.insert(2,\"inserted an element at 2nd index\")  # inserts an element at 2nd index\n",
    "list_1"
   ]
  },
  {
   "cell_type": "code",
   "execution_count": null,
   "id": "65b15dd5",
   "metadata": {},
   "outputs": [],
   "source": [
    "print(\"3. list_1.pop() : \")\n",
    "list_1.pop() # removes element at given index by default removes last index element\n",
    "list_1"
   ]
  },
  {
   "cell_type": "code",
   "execution_count": null,
   "id": "5912c28e",
   "metadata": {},
   "outputs": [],
   "source": [
    "print(\"4. list_1.extend() : \")\n",
    "list_1.extend(\"extend\") # appends the element through iteration\n",
    "list_1"
   ]
  },
  {
   "cell_type": "code",
   "execution_count": null,
   "id": "ec4408a1",
   "metadata": {},
   "outputs": [],
   "source": [
    "print(\"5. list_1.reverse() : \")\n",
    "list_1.reverse() # reverses the list according to index\n",
    "list_1"
   ]
  },
  {
   "cell_type": "markdown",
   "id": "f53a5681",
   "metadata": {},
   "source": [
    "###### Tuple"
   ]
  },
  {
   "cell_type": "code",
   "execution_count": null,
   "id": "1d6aa7fa",
   "metadata": {},
   "outputs": [],
   "source": [
    "tuple_1 = (\"tuple\",0.22,\"Avinash\",2022,False,\"IIITH\",2022) # immutable data type\n",
    "print(\"tuple is : \",tuple_1)\n",
    "print(\"1. tuple_1.index(Avinash) : \",tuple_1.index(\"Avinash\")) # Finds the first occurance index of the element\n",
    "print(\"2. tuple_1.count(2022) : \",tuple_1.count(2022)) # counts the total occurance of the given element"
   ]
  },
  {
   "cell_type": "markdown",
   "id": "f6a59ee0",
   "metadata": {},
   "source": [
    "###### Sets"
   ]
  },
  {
   "cell_type": "code",
   "execution_count": 1,
   "id": "ae91e5cf",
   "metadata": {},
   "outputs": [
    {
     "name": "stdout",
     "output_type": "stream",
     "text": [
      "set_1 is :  {'orange', 'mango', 'apple', 'strawberry'}\n"
     ]
    }
   ],
   "source": [
    "set_1 = {\"apple\",\"orange\",\"mango\",\"apple\",\"strawberry\",\"orange\"}\n",
    "print(\"set_1 is : \",set_1)"
   ]
  },
  {
   "cell_type": "code",
   "execution_count": 2,
   "id": "177444a0",
   "metadata": {},
   "outputs": [
    {
     "name": "stdout",
     "output_type": "stream",
     "text": [
      "1. set.add() : \n"
     ]
    },
    {
     "data": {
      "text/plain": [
       "{'apple', 'banana', 'mango', 'orange', 'strawberry'}"
      ]
     },
     "execution_count": 2,
     "metadata": {},
     "output_type": "execute_result"
    }
   ],
   "source": [
    "print(\"1. set.add() : \")\n",
    "set_1.add(\"banana\") # adds the element at any index \n",
    "set_1"
   ]
  },
  {
   "cell_type": "code",
   "execution_count": 3,
   "id": "c85fb608",
   "metadata": {},
   "outputs": [
    {
     "name": "stdout",
     "output_type": "stream",
     "text": [
      "2. set.remove() : \n"
     ]
    },
    {
     "data": {
      "text/plain": [
       "{'apple', 'banana', 'mango', 'strawberry'}"
      ]
     },
     "execution_count": 3,
     "metadata": {},
     "output_type": "execute_result"
    }
   ],
   "source": [
    "print(\"2. set.remove() : \")\n",
    "set_1.remove(\"orange\") # removes the element from the set\n",
    "set_1"
   ]
  },
  {
   "cell_type": "code",
   "execution_count": 4,
   "id": "f5c487a5",
   "metadata": {},
   "outputs": [
    {
     "name": "stdout",
     "output_type": "stream",
     "text": [
      "set_2 is :  {'winter', 'autumn', 'summer'}\n",
      "3. set.union : \n"
     ]
    },
    {
     "data": {
      "text/plain": [
       "{'apple', 'autumn', 'banana', 'mango', 'strawberry', 'summer', 'winter'}"
      ]
     },
     "execution_count": 4,
     "metadata": {},
     "output_type": "execute_result"
    }
   ],
   "source": [
    "set_2={\"summer\",\"winter\",\"autumn\"}\n",
    "print(\"set_2 is : \",set_2)\n",
    "print(\"3. set.union : \")\n",
    "set_1 = set_1.union(set_2) # Joins two sets\n",
    "set_1"
   ]
  },
  {
   "cell_type": "code",
   "execution_count": 5,
   "id": "9c6e29be",
   "metadata": {},
   "outputs": [
    {
     "name": "stdout",
     "output_type": "stream",
     "text": [
      "4. set.pop() : \n"
     ]
    },
    {
     "data": {
      "text/plain": [
       "'autumn'"
      ]
     },
     "execution_count": 5,
     "metadata": {},
     "output_type": "execute_result"
    }
   ],
   "source": [
    "print(\"4. set.pop() : \")\n",
    "set_1.pop() # Output the last index element"
   ]
  },
  {
   "cell_type": "code",
   "execution_count": 6,
   "id": "998b31aa",
   "metadata": {},
   "outputs": [
    {
     "name": "stdout",
     "output_type": "stream",
     "text": [
      "5. set.clear : \n"
     ]
    },
    {
     "data": {
      "text/plain": [
       "set()"
      ]
     },
     "execution_count": 6,
     "metadata": {},
     "output_type": "execute_result"
    }
   ],
   "source": [
    "print(\"5. set.clear : \")\n",
    "set_1.clear() # empty the set completely\n",
    "set_1 "
   ]
  },
  {
   "cell_type": "markdown",
   "id": "85129172",
   "metadata": {},
   "source": [
    "###### Dictionary"
   ]
  },
  {
   "cell_type": "code",
   "execution_count": 15,
   "id": "7ab5a9c4",
   "metadata": {},
   "outputs": [
    {
     "name": "stdout",
     "output_type": "stream",
     "text": [
      "dictionary is :  {'name': 'Avinash', 'roll no': 20220090, 'Batch': 'FMML', 'year': 2022}\n"
     ]
    }
   ],
   "source": [
    "dictionary={\"name\":\"Avinash\",\"roll no\":20220090,\"Batch\":\"FMML\",\"year\":2022}\n",
    "print(\"dictionary is : \",dictionary)"
   ]
  },
  {
   "cell_type": "code",
   "execution_count": 13,
   "id": "fed70f51",
   "metadata": {},
   "outputs": [
    {
     "name": "stdout",
     "output_type": "stream",
     "text": [
      "1. dictionary.get() :  Avinash\n"
     ]
    }
   ],
   "source": [
    "print(\"1. dictionary.get() : \",dictionary.get(\"name\"))\n",
    "# Returns the value at the specified key"
   ]
  },
  {
   "cell_type": "code",
   "execution_count": 14,
   "id": "134e34c5",
   "metadata": {},
   "outputs": [
    {
     "name": "stdout",
     "output_type": "stream",
     "text": [
      "2. dictionary.update() : \n"
     ]
    },
    {
     "data": {
      "text/plain": [
       "{'name': 'Avinash', 'roll no': 20220090, 'Batch': 'FMML', 'year': '3rd year'}"
      ]
     },
     "execution_count": 14,
     "metadata": {},
     "output_type": "execute_result"
    }
   ],
   "source": [
    "print(\"2. dictionary.update() : \")\n",
    "dictionary.update({\"year\":\"3rd year\"}) # inserts the new key-value pair\n",
    "dictionary"
   ]
  },
  {
   "cell_type": "code",
   "execution_count": 20,
   "id": "df833017",
   "metadata": {},
   "outputs": [
    {
     "name": "stdout",
     "output_type": "stream",
     "text": [
      "3. dictionary.items() : \n",
      " dict_items([('name', 'Avinash'), ('roll no', 20220090), ('Batch', 'FMML'), ('year', 2022)])\n"
     ]
    }
   ],
   "source": [
    "print(\"3. dictionary.items() : \\n\",dictionary.items())\n",
    "# returns a dictionary of lists with key-value pairs as tupples"
   ]
  },
  {
   "cell_type": "code",
   "execution_count": 22,
   "id": "33f00761",
   "metadata": {},
   "outputs": [
    {
     "name": "stdout",
     "output_type": "stream",
     "text": [
      "4. dictionary.keys() : \n",
      " dict_keys(['name', 'roll no', 'Batch', 'year'])\n"
     ]
    }
   ],
   "source": [
    "print(\"4. dictionary.keys() : \\n\",dictionary.keys())\n",
    "# returns a dictionary of list of keys"
   ]
  },
  {
   "cell_type": "code",
   "execution_count": 23,
   "id": "1a8dc91b",
   "metadata": {},
   "outputs": [
    {
     "name": "stdout",
     "output_type": "stream",
     "text": [
      "4. dictionary.keys() : \n",
      " dict_values(['Avinash', 20220090, 'FMML', 2022])\n"
     ]
    }
   ],
   "source": [
    "print(\"5. dictionary.values() : \\n\",dictionary.values())\n",
    "# returns a dictionary of list of values"
   ]
  },
  {
   "cell_type": "markdown",
   "id": "6bc70f41",
   "metadata": {},
   "source": [
    "#### Question 1 :\n",
    "\n",
    "##### Define a function, which takes in two strings A and B. Reverses the first string A, adds it to B, and returns the final string."
   ]
  },
  {
   "cell_type": "code",
   "execution_count": null,
   "id": "e86fc598",
   "metadata": {},
   "outputs": [],
   "source": [
    "def reversed_string(string_a,string_b):\n",
    "    rev_string_a = string_a[::-1]\n",
    "    final_string = rev_string_a + string_b\n",
    "    return final_string\n",
    "\n",
    "print(\"Final string is : \",reversed_string(\"FMML\",\"2022\"))"
   ]
  },
  {
   "cell_type": "markdown",
   "id": "d71aedfb",
   "metadata": {},
   "source": [
    "\n",
    "#### Question 2 : \n",
    "##### Given a list having Names, work_hours, and gender, Write a function to print name of the female worker that worked the most hours. Also how much do should she be paid if the pay is $ 20 per hour.\n",
    "\n",
    "##### work_hours = [('Abby',100 , 'F'),('Billy',400, 'M'),('Cassie',800,'F'), ('Maggi',600,'F'),('Alex',500,'M'),('Raj',225,'M'),('Penny',920,'F'),('Ben',300,'M')]\n",
    "\n",
    "##### Answer : the female worker that worked the most hours is Penny and she should be paid 18400"
   ]
  },
  {
   "cell_type": "code",
   "execution_count": null,
   "id": "5da68e57",
   "metadata": {},
   "outputs": [],
   "source": [
    "def female_worker(list_worker):\n",
    "    female_list=[]\n",
    "    max_hour_female_name=\"\"\n",
    "    for i in list_worker:\n",
    "        gender=i[2]\n",
    "        if gender == \"F\":\n",
    "            name=i[0]\n",
    "            work_hour=i[1]\n",
    "            female_tuple = tuple((name,work_hour))\n",
    "            female_list.append(female_tuple)\n",
    "    max_hour = female_list[0][1]\n",
    "    for j in range (0,len(female_list)):\n",
    "        if max_hour < female_list[j][1]:\n",
    "            max_hour = female_list[j][1]\n",
    "    for k in range(0,len(female_list)):\n",
    "        if max_hour == female_list[k][1]:\n",
    "            max_hour_female_name = female_list[k][0]\n",
    "    amount_paid = max_hour*20\n",
    "    return print(\"The female worker that worked the most hours is\" ,\n",
    "                 max_hour_female_name, \"and she should be paid\" ,amount_paid)\n",
    "\n"
   ]
  },
  {
   "cell_type": "code",
   "execution_count": null,
   "id": "7ea57c00",
   "metadata": {},
   "outputs": [],
   "source": [
    "female_worker([('Abby',100 , 'F'),('Billy',400, 'M'),('Cassie',800,'F'), ('Maggi',600,'F'),\n",
    "              ('Alex',500,'M'),('Raj',225,'M'),('Penny',920,'F'),('Ben',300,'M'),('Shradha',50 , 'F')])"
   ]
  },
  {
   "cell_type": "markdown",
   "id": "7d3fcb7c",
   "metadata": {},
   "source": [
    "#### Question 3 : \n",
    "\n",
    "##### a)Create a 5x5 matrix of the following form, \n",
    "\n",
    "##### [[1,1]\n",
    "#####  [2,2]]\n",
    "\n",
    "#####  i.e. each row is increasing and has repetive elements.\n",
    "\n",
    "######  Hint : you can use hstack, vstack  etc.\n",
    "\n",
    "##### b) find dot product of the matrix with any matrix. (Figure out the size/ shape of the matrix)"
   ]
  },
  {
   "cell_type": "code",
   "execution_count": null,
   "id": "97a370fc",
   "metadata": {},
   "outputs": [],
   "source": [
    "import numpy as np"
   ]
  },
  {
   "cell_type": "code",
   "execution_count": null,
   "id": "a0e94b69",
   "metadata": {},
   "outputs": [],
   "source": [
    "arr_1=[]\n",
    "arr_2=[]\n",
    "x = int(input(\"Enter a number for 1st row : \"))\n",
    "for i in range(x,x+5):\n",
    "    arr_1 = [i]*5\n",
    "    arr_2.append(arr_1)\n",
    "arr = np.array(arr_2)\n",
    "print(\"\\n Created array : \\n\",arr)\n",
    "random_arr = np.arange(0,25).reshape((5,5))\n",
    "print(\"\\n Random array : \\n\",random_arr)\n",
    "product = np.dot(arr,random_arr)\n",
    "print(\"\\n Product is : \\n\",product)"
   ]
  }
 ],
 "metadata": {
  "kernelspec": {
   "display_name": "Python 3 (ipykernel)",
   "language": "python",
   "name": "python3"
  },
  "language_info": {
   "codemirror_mode": {
    "name": "ipython",
    "version": 3
   },
   "file_extension": ".py",
   "mimetype": "text/x-python",
   "name": "python",
   "nbconvert_exporter": "python",
   "pygments_lexer": "ipython3",
   "version": "3.9.7"
  }
 },
 "nbformat": 4,
 "nbformat_minor": 5
}
